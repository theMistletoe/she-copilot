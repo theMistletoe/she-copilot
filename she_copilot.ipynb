{
  "nbformat": 4,
  "nbformat_minor": 0,
  "metadata": {
    "colab": {
      "provenance": [],
      "machine_shape": "hm",
      "gpuType": "A100",
      "authorship_tag": "ABX9TyNFIANj/jkU9oRaUVrY6as6",
      "include_colab_link": true
    },
    "kernelspec": {
      "name": "python3",
      "display_name": "Python 3"
    },
    "language_info": {
      "name": "python"
    }
  },
  "cells": [
    {
      "cell_type": "markdown",
      "metadata": {
        "id": "view-in-github",
        "colab_type": "text"
      },
      "source": [
        "<a href=\"https://colab.research.google.com/github/theMistletoe/she-copilot/blob/main/she_copilot.ipynb\" target=\"_parent\"><img src=\"https://colab.research.google.com/assets/colab-badge.svg\" alt=\"Open In Colab\"/></a>"
      ]
    },
    {
      "cell_type": "code",
      "source": [
        "# ライブラリのインストール\n",
        "!pip install openai\n",
        "!pip install langchain\n",
        "!pip install pydub"
      ],
      "metadata": {
        "id": "PKtRiY09li5G"
      },
      "execution_count": null,
      "outputs": []
    },
    {
      "cell_type": "code",
      "source": [
        "import os\n",
        "\n",
        "#@markdown **OPENAI_API_KEYの設定**\n",
        "OPENAI_API_KEY = \"\" #@param {type:\"string\"}\n",
        "os.environ[\"OPENAI_API_KEY\"] = OPENAI_API_KEY"
      ],
      "metadata": {
        "id": "uH2yJr2Gm-dC"
      },
      "execution_count": null,
      "outputs": []
    },
    {
      "cell_type": "code",
      "source": [
        "# ライブラリ定義\n",
        "import librosa\n",
        "import librosa.display\n",
        "from IPython.display import display, Audio\n",
        "import matplotlib.pyplot as plt\n",
        "from datetime import datetime\n",
        "\n",
        "SAMPLE_RATE = 16000"
      ],
      "metadata": {
        "id": "hgqhcsRSqPHq"
      },
      "execution_count": null,
      "outputs": []
    },
    {
      "cell_type": "code",
      "source": [
        "# 録音処理\n",
        "# 参考リンク: https://colab.research.google.com/github/espnet/notebook/blob/master/espnet2_asr_realtime_demo.ipynb#scrollTo=8ICdjXlSidsS\n",
        "# https://gist.github.com/korakot/c21c3476c024ad6d56d5f48b0bca92be\n",
        "from IPython.display import Javascript\n",
        "from google.colab import output\n",
        "from base64 import b64decode\n",
        "\n",
        "RECORD = \"\"\"\n",
        "const sleep = time => new Promise(resolve => setTimeout(resolve, time))\n",
        "const b2text = blob => new Promise(resolve => {\n",
        "  const reader = new FileReader()\n",
        "  reader.onloadend = e => resolve(e.srcElement.result)\n",
        "  reader.readAsDataURL(blob)\n",
        "})\n",
        "var record = time => new Promise(async resolve => {\n",
        "  stream = await navigator.mediaDevices.getUserMedia({ audio: true })\n",
        "  recorder = new MediaRecorder(stream)\n",
        "  chunks = []\n",
        "  recorder.ondataavailable = e => chunks.push(e.data)\n",
        "  recorder.start()\n",
        "  await sleep(time)\n",
        "  recorder.onstop = async ()=>{\n",
        "    blob = new Blob(chunks)\n",
        "    text = await b2text(blob)\n",
        "    resolve(text)\n",
        "  }\n",
        "  recorder.stop()\n",
        "})\n",
        "\"\"\"\n",
        "\n",
        "def record(sec, file_name='audio.wav', sample_rate=16000):\n",
        "  display(Javascript(RECORD))\n",
        "  s = output.eval_js('record(%d)' % (sec * 1000))\n",
        "  b = b64decode(s.split(',')[1])\n",
        "  with open(file_name, 'wb+') as f:\n",
        "    f.write(b)\n",
        "  return librosa.load(file_name, sr=sample_rate)"
      ],
      "metadata": {
        "id": "ApupHVG5pXiF"
      },
      "execution_count": null,
      "outputs": []
    },
    {
      "cell_type": "code",
      "source": [
        "# 録音&ファイル出力\n",
        "\n",
        "output_audio_file = \"audio_%s.wav\"%datetime.now().strftime('%Y%m%d%H%M%S')\n",
        "\n",
        "#@markdown **話す時間(秒)の設定**\n",
        "#@markdown 考えていることを話す時間を設定してください。\n",
        "\n",
        "import warnings\n",
        "warnings.filterwarnings('ignore')\n",
        "seconds = 60 #@param {type:\"integer\"}\n",
        "print(f\"あなたの今悩んでいることについて、マイクに向けて%d秒お話ししてください...\"%seconds, end=\"\")\n",
        "speech, sample_rate = record(seconds, file_name=output_audio_file, sample_rate=SAMPLE_RATE)\n",
        "print(\"完成。\")\n",
        "\n"
      ],
      "metadata": {
        "id": "9r9ofCT5qfct"
      },
      "execution_count": null,
      "outputs": []
    },
    {
      "cell_type": "code",
      "execution_count": null,
      "metadata": {
        "id": "tN16o89zlQHv"
      },
      "outputs": [],
      "source": [
        "# テキスト化処理\n",
        "\n",
        "import openai\n",
        "# from pydub import AudioSegment\n",
        "\n",
        "# print(output_audio_file)\n",
        "\n",
        "# 長尺用\n",
        "# song = AudioSegment.from_wav(output_audio_file)\n",
        "# ten_minutes = 10 * 60 * 1000\n",
        "# first_10_minutes = song[:ten_minutes]\n",
        "# first_10_minutes.export(\"audio_10.wav\", format=\"mp3\")\n",
        "\n",
        "audio_file= open(output_audio_file, \"rb\")\n",
        "transcript = openai.Audio.transcribe(\"whisper-1\", audio_file)\n",
        "print(transcript[\"text\"])\n",
        "\n",
        "talk_script = transcript[\"text\"]"
      ]
    },
    {
      "cell_type": "code",
      "source": [
        "# 要約処理\n",
        "\n",
        "# チャットモデルのラッパーをインポート\n",
        "from langchain.chat_models import ChatOpenAI\n",
        "# チャットプロンプト用のテンプレートをインポート\n",
        "from langchain.prompts.chat import (\n",
        "    ChatPromptTemplate,\n",
        "    SystemMessagePromptTemplate,\n",
        "    HumanMessagePromptTemplate,\n",
        ")\n",
        "\n",
        "# チャットモデルのラッパーを初期化\n",
        "chat = ChatOpenAI(\n",
        "    model_name=\"gpt-4\", # gpt-4が利用できなければコメントアウトしてください\n",
        "    temperature=0\n",
        "    )\n",
        "\n",
        "# SystemMessage 用のテンプレートの作成\n",
        "template=\"あなたは提示された文章の文脈や構造を理解し、理解しやすい形に構造化・整理することが得意です。\"\n",
        "system_message_prompt = SystemMessagePromptTemplate.from_template(template)\n",
        "\n",
        "# HumanMessage 用のテンプレートの作成\n",
        "human_template=\"以下の文章の文脈を汲み取り、誤字脱字と推測される部分を適切に修正した上で、構造化した上で人間が理解しやすい形のMarkdown形式で出力してください。「{text}」\"\n",
        "human_message_prompt = HumanMessagePromptTemplate.from_template(human_template)\n",
        "\n",
        "# Message のテンプレートを組合わせて会話の流れを決めます\n",
        "messages_template = [\n",
        "    system_message_prompt,\n",
        "    human_message_prompt\n",
        "]\n",
        "\n",
        "# チャットプロンプト用のテンプレートを作成します\n",
        "chat_prompt_template = ChatPromptTemplate.from_messages(messages_template)\n",
        "\n",
        "# テンプレートに具体値を組み込んでチャットプロンプトを作成します\n",
        "chat_prompt = chat_prompt_template.format_prompt(text=talk_script).to_messages()\n",
        "\n",
        "# チャットの補完を作成\n",
        "completion = chat(chat_prompt)\n",
        "print(\"あなたの考えを整理してみました！\")\n",
        "print(\"\")\n",
        "print(completion.content)"
      ],
      "metadata": {
        "id": "osVnhIYOKy0X"
      },
      "execution_count": null,
      "outputs": []
    }
  ]
}